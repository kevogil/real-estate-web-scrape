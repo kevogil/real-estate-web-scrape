{
 "cells": [
  {
   "cell_type": "code",
   "execution_count": null,
   "id": "2f20d718-1f68-4567-b76d-b3b97c2603ec",
   "metadata": {},
   "outputs": [],
   "source": [
    "from splinter import Browser\n",
    "from webdriver_manager.chrome import ChromeDriverManager\n",
    "from bs4 import BeautifulSoup as bs\n",
    "import pandas as pd\n",
    "import time\n",
    "def init_browser():\n",
    "    executable_path = {'executable_path': ChromeDriverManager().install()}\n",
    "    return Browser('chrome', **executable_path, headless=False)"
   ]
  },
  {
   "cell_type": "code",
   "execution_count": null,
   "id": "f55d1a01-697d-4af7-8fcd-5e3b9609da5d",
   "metadata": {},
   "outputs": [],
   "source": [
    "# Cities to search\n",
    "cities = ['Los-Angeles_CA','New-York_NY', 'Chicago_IL', 'Houston_TX', 'Phoenix_AZ', 'Philadelphia_PA', 'San-Antonio_TX', 'San-Diego_CA', 'Dallas_TX', 'San-Jose_CA']"
   ]
  },
  {
   "cell_type": "code",
   "execution_count": null,
   "id": "018d9ab2-cbad-455c-bcde-cf47c0775f37",
   "metadata": {
    "scrolled": true
   },
   "outputs": [],
   "source": [
    "# Start browser\n",
    "browser = init_browser()"
   ]
  },
  {
   "cell_type": "code",
   "execution_count": null,
   "id": "82d0230c",
   "metadata": {},
   "outputs": [],
   "source": [
    "# Create blank lists to store attributes\n",
    "prices = []\n",
    "beds = []\n",
    "baths = []\n",
    "sizes = []\n",
    "addresses = []\n",
    "statuses = []\n",
    "pages = []\n",
    "types = []\n",
    "years = []"
   ]
  },
  {
   "cell_type": "code",
   "execution_count": null,
   "id": "10ad1f02-3228-4f84-b819-62baefb03074",
   "metadata": {
    "scrolled": true
   },
   "outputs": [],
   "source": [
    "# Loop through each city\n",
    "for city in cities:\n",
    "\n",
    "    # Loop through each search result page\n",
    "    for i in range(1, 5, 1):\n",
    "\n",
    "        # Set variables\n",
    "        url = f\"https://www.realtor.com/realestateandhomes-search/{city}/pg-{i}\"\n",
    "\n",
    "        time.sleep(5) \n",
    "        browser.visit(url)\n",
    "        html = browser.html\n",
    "        soup = bs(html, \"html.parser\")\n",
    "\n",
    "        # Identify all listings\n",
    "        listings = soup.find_all('li', attrs={\"data-testid\": \"result-card\"})\n",
    "\n",
    "        # Loop through each listing\n",
    "        for listing in listings:\n",
    "            price = listing.find('span', attrs={\"data-label\": \"pc-price\"})\n",
    "            bed = listing.find('li', attrs={\"data-label\": \"pc-meta-beds\"})\n",
    "            bath = listing.find('li', attrs={\"data-label\": \"pc-meta-baths\"})\n",
    "            size = listing.find('li', attrs={\"data-label\": \"pc-meta-sqft\"})\n",
    "            address = listing.find('div', attrs={\"data-label\": \"pc-address\"})\n",
    "            status = listing.find('span', attrs={\"class\": \"jsx-3853574337 statusText\"})\n",
    "\n",
    "            if price and price.text:\n",
    "                prices.append(price.text)\n",
    "            else: \n",
    "                prices.append('No Info')\n",
    "\n",
    "            if bed and bed.text:\n",
    "                beds.append(bed.text)\n",
    "            else: \n",
    "                beds.append('No Info')\n",
    "\n",
    "            if bath and bath.text:\n",
    "                baths.append(bath.text)\n",
    "            else: \n",
    "                baths.append('No Info')\n",
    "\n",
    "            if size and size.text:\n",
    "                sizes.append(size.text)\n",
    "            else: \n",
    "                sizes.append('No Info')\n",
    "\n",
    "            if address and address.text:\n",
    "                addresses.append(address.text)\n",
    "            else: \n",
    "                addresses.append('No Info')\n",
    "\n",
    "            if status and status.text:\n",
    "                statuses.append(status.text)\n",
    "            else: \n",
    "                statuses.append('No Info')\n",
    "\n",
    "                \n",
    "            # Identify URL to listing detail page\n",
    "            page = listing.find('a').get('href')\n",
    "\n",
    "            time.sleep(5)\n",
    "            browser.click_link_by_href(page)\n",
    "\n",
    "            html = browser.html\n",
    "            detail_page = bs(html, \"html.parser\")\n",
    "\n",
    "            # Extract property type and year property was built\n",
    "            details = detail_page.find_all('li', attrs={\"class\": \"rui-patterns__sc-2lxyoa-0 ivcDnD\"})\n",
    "\n",
    "            property_type = details[0].find('div', attrs={\"class\": \"rui__ygf76n-0 gFfdWq rui__sc-17fo6pt-0 iRbBbO\"})\n",
    "#             year_built = details[4].find('div', attrs={\"class\": \"rui__ygf76n-0 gFfdWq rui__sc-17fo6pt-0 iRbBbO\"})\n",
    "\n",
    "            if property_type and property_type.text:\n",
    "                types.append(property_type.text)\n",
    "            else: \n",
    "                types.append('No Info')\n",
    "#             if year_built and year_built.text:\n",
    "#                 years.append(year_built.text)\n",
    "#             else: \n",
    "#                 years.append('No Info')\n",
    "\n",
    "            time.sleep(5)    \n",
    "            browser.back()"
   ]
  },
  {
   "cell_type": "code",
   "execution_count": null,
   "id": "8ebf552c-014f-4337-966b-c8ff4d4b76b3",
   "metadata": {
    "scrolled": true
   },
   "outputs": [],
   "source": [
    "df = pd.DataFrame({'Address': addresses, 'Status': status, 'Property Type': types, 'Year Built': years, 'Price': prices, 'Bed': beds, 'Bath': baths, 'Size': sizes})\n",
    "# df.drop_duplicates(subset='Address', keep=\"last\")\n",
    "df.to_csv('Rental_Listings.csv', index=False, encoding='utf-8')\n",
    "df"
   ]
  },
  {
   "cell_type": "code",
   "execution_count": null,
   "id": "ecf8a0cd",
   "metadata": {},
   "outputs": [],
   "source": [
    "browser.quit()"
   ]
  },
  {
   "cell_type": "code",
   "execution_count": null,
   "id": "e189d723",
   "metadata": {},
   "outputs": [],
   "source": []
  }
 ],
 "metadata": {
  "kernelspec": {
   "display_name": "Python 3",
   "language": "python",
   "name": "python3"
  },
  "language_info": {
   "codemirror_mode": {
    "name": "ipython",
    "version": 3
   },
   "file_extension": ".py",
   "mimetype": "text/x-python",
   "name": "python",
   "nbconvert_exporter": "python",
   "pygments_lexer": "ipython3",
   "version": "3.8.8"
  }
 },
 "nbformat": 4,
 "nbformat_minor": 5
}
