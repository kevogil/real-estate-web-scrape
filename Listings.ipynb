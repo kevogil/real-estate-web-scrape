{
 "cells": [
  {
   "cell_type": "code",
   "execution_count": 1,
   "id": "2f20d718-1f68-4567-b76d-b3b97c2603ec",
   "metadata": {},
   "outputs": [],
   "source": [
    "from splinter import Browser\n",
    "from webdriver_manager.chrome import ChromeDriverManager\n",
    "from bs4 import BeautifulSoup as bs\n",
    "import pandas as pd\n",
    "import time\n",
    "def init_browser():\n",
    "    executable_path = {'executable_path': ChromeDriverManager().install()}\n",
    "    return Browser('chrome', **executable_path, headless=False)"
   ]
  },
  {
   "cell_type": "code",
   "execution_count": 2,
   "id": "f55d1a01-697d-4af7-8fcd-5e3b9609da5d",
   "metadata": {},
   "outputs": [],
   "source": [
    "# Cities to search\n",
    "cities = ['Los-Angeles_CA','New-York_NY', 'Chicago_IL']\n",
    "# , 'Houston_TX', 'Phoenix_AZ', 'Philadelphia_PA', 'San-Antonio_TX', 'San-Diego_CA', 'Dallas_TX', 'San-Jose_CA']\n",
    "\n",
    "cities =['Los-Angeles_CA']"
   ]
  },
  {
   "cell_type": "code",
   "execution_count": 3,
   "id": "018d9ab2-cbad-455c-bcde-cf47c0775f37",
   "metadata": {
    "scrolled": true
   },
   "outputs": [
    {
     "name": "stderr",
     "output_type": "stream",
     "text": [
      "\n",
      "\n",
      "====== WebDriver manager ======\n",
      "Current google-chrome version is 93.0.4577\n",
      "Get LATEST driver version for 93.0.4577\n",
      "Driver [C:\\Users\\kesam\\.wdm\\drivers\\chromedriver\\win32\\93.0.4577.63\\chromedriver.exe] found in cache\n"
     ]
    }
   ],
   "source": [
    "# Start browser\n",
    "browser = init_browser()"
   ]
  },
  {
   "cell_type": "code",
   "execution_count": 4,
   "id": "3679b227",
   "metadata": {},
   "outputs": [],
   "source": [
    "# Create blank lists to store attributes\n",
    "prices = []\n",
    "beds = []\n",
    "baths = []\n",
    "sizes = []\n",
    "addresses = []\n",
    "statuses = []\n",
    "pages = []\n",
    "types = []\n",
    "years = []"
   ]
  },
  {
   "cell_type": "code",
   "execution_count": 6,
   "id": "10ad1f02-3228-4f84-b819-62baefb03074",
   "metadata": {
    "scrolled": true
   },
   "outputs": [],
   "source": [
    "# Loop through each city\n",
    "for city in cities:\n",
    "\n",
    "    # Loop through each search result page\n",
    "    for i in range(1, 5, 1):\n",
    "\n",
    "        # Set variables\n",
    "        url = f\"https://www.realtor.com/realestateandhomes-search/{city}/pg-{i}\"\n",
    "\n",
    "        time.sleep(5) \n",
    "        browser.visit(url)\n",
    "        html = browser.html\n",
    "        soup = bs(html, \"html.parser\")\n",
    "\n",
    "        # Identify all listings\n",
    "        listings = soup.find_all('li', attrs={\"data-testid\": \"result-card\"})\n",
    "\n",
    "        # Loop through each listing\n",
    "        for listing in listings:\n",
    "            price = listing.find('span', attrs={\"data-label\": \"pc-price\"})\n",
    "            bed = listing.find('li', attrs={\"data-label\": \"pc-meta-beds\"})\n",
    "            bath = listing.find('li', attrs={\"data-label\": \"pc-meta-baths\"})\n",
    "            size = listing.find('li', attrs={\"data-label\": \"pc-meta-sqft\"})\n",
    "            address = listing.find('div', attrs={\"data-label\": \"pc-address\"})\n",
    "            status = listing.find('span', attrs={\"class\": \"jsx-3853574337 statusText\"})\n",
    "\n",
    "            if price and price.text:\n",
    "                prices.append(price.text)\n",
    "            else: \n",
    "                prices.append('No Info')\n",
    "\n",
    "            if bed and bed.text:\n",
    "                beds.append(bed.text)\n",
    "            else: \n",
    "                beds.append('No Info')\n",
    "\n",
    "            if bath and bath.text:\n",
    "                baths.append(bath.text)\n",
    "            else: \n",
    "                baths.append('No Info')\n",
    "\n",
    "            if size and size.text:\n",
    "                sizes.append(size.text)\n",
    "            else: \n",
    "                sizes.append('No Info')\n",
    "\n",
    "            if address and address.text:\n",
    "                addresses.append(address.text)\n",
    "            else: \n",
    "                addresses.append('No Info')\n",
    "\n",
    "            if status and status.text:\n",
    "                statuses.append(status.text)\n",
    "            else: \n",
    "                statuses.append('No Info')\n",
    "\n",
    "                \n",
    "            # Identify URL to listing detail page\n",
    "            page = listing.find('a').get('href')\n",
    "\n",
    "            time.sleep(5)\n",
    "            browser.click_link_by_href(page)\n",
    "\n",
    "            html = browser.html\n",
    "            detail_page = bs(html, \"html.parser\")\n",
    "#             print(detail_page.prettify())\n",
    "            # Extract property type and year property was built\n",
    "            details = detail_page.find_all('li', attrs={\"class\": \"rui-patterns__sc-2lxyoa-0 ivcDnD\"})\n",
    "\n",
    "            property_type = details[0].find('div', attrs={\"class\": \"rui__ygf76n-0 gFfdWq rui__sc-17fo6pt-0 iRbBbO\"})\n",
    "#             year_built = details[4].find('div', attrs={\"class\": \"rui__ygf76n-0 gFfdWq rui__sc-17fo6pt-0 iRbBbO\"})\n",
    "\n",
    "            if property_type and property_type.text:\n",
    "                types.append(property_type.text)\n",
    "            else: \n",
    "                types.append('No Info')\n",
    "#             if year_built and year_built.text:\n",
    "#                 years.append(year_built.text)\n",
    "#             else: \n",
    "#                 years.append('No Info')\n",
    "\n",
    "            time.sleep(5)    \n",
    "            browser.back()"
   ]
  },
  {
   "cell_type": "code",
   "execution_count": null,
   "id": "8ebf552c-014f-4337-966b-c8ff4d4b76b3",
   "metadata": {
    "scrolled": true
   },
   "outputs": [],
   "source": [
    "listings_df = pd.DataFrame({'Address': addresses, 'Status': status, 'Property Type': types, 'Year Built': years, 'Price': prices, 'Bed': beds, 'Bath': baths, 'Size': sizes})\n",
    "# df.drop_duplicates(subset='Address', keep=\"last\")\n",
    "listings_df.to_csv('Rental_Listings.csv', index=False, encoding='utf-8')\n",
    "listings_df"
   ]
  },
  {
   "cell_type": "code",
   "execution_count": null,
   "id": "ea14994f",
   "metadata": {},
   "outputs": [],
   "source": [
    "browser.quit()"
   ]
  },
  {
   "cell_type": "code",
   "execution_count": 7,
   "id": "cdacb090",
   "metadata": {},
   "outputs": [],
   "source": [
    "import psycopg2\n",
    "from sqlalchemy import create_engine\n",
    "from Config import driver, username, password, host, port, database\n",
    "\n",
    "connection_string = f\"{driver}://{username}:{password}@{host}:{port}/{database}\"\n",
    "engine = create_engine(connection_string)\n",
    "connection = engine.connect()"
   ]
  },
  {
   "cell_type": "code",
   "execution_count": null,
   "id": "232c05bf-9c8b-4d52-ac76-b752f8d717e3",
   "metadata": {},
   "outputs": [],
   "source": [
    "listings_df.to_sql('listings',connection, if_exists='append', index=False)"
   ]
  },
  {
   "cell_type": "code",
   "execution_count": null,
   "id": "a7215c36-90a9-44f3-974c-50950eb5f485",
   "metadata": {},
   "outputs": [],
   "source": [
    "listings_df.head()"
   ]
  },
  {
   "cell_type": "code",
   "execution_count": null,
   "id": "8ee4a9c6-323a-469a-b2c3-2eb18cd887c6",
   "metadata": {},
   "outputs": [],
   "source": [
    "prices"
   ]
  },
  {
   "cell_type": "code",
   "execution_count": null,
   "id": "d7ef212a-2de9-4a44-b7be-8f708a9db13f",
   "metadata": {},
   "outputs": [],
   "source": []
  }
 ],
 "metadata": {
  "kernelspec": {
   "display_name": "Python 3",
   "language": "python",
   "name": "python3"
  },
  "language_info": {
   "codemirror_mode": {
    "name": "ipython",
    "version": 3
   },
   "file_extension": ".py",
   "mimetype": "text/x-python",
   "name": "python",
   "nbconvert_exporter": "python",
   "pygments_lexer": "ipython3",
   "version": "3.8.8"
  }
 },
 "nbformat": 4,
 "nbformat_minor": 5
}
